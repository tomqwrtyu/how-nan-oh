{
 "cells": [
  {
   "cell_type": "code",
   "execution_count": 1,
   "metadata": {},
   "outputs": [
    {
     "ename": "OSError",
     "evalue": "no library called \"cairo-2\" was found\nno library called \"cairo\" was found\nno library called \"libcairo-2\" was found\ncannot load library 'libcairo.so.2': error 0x7e\ncannot load library 'libcairo.2.dylib': error 0x7e\ncannot load library 'libcairo-2.dll': error 0x7e",
     "output_type": "error",
     "traceback": [
      "\u001b[1;31m---------------------------------------------------------------------------\u001b[0m",
      "\u001b[1;31mOSError\u001b[0m                                   Traceback (most recent call last)",
      "Cell \u001b[1;32mIn [1], line 1\u001b[0m\n\u001b[1;32m----> 1\u001b[0m \u001b[39mfrom\u001b[39;00m \u001b[39mcairosvg\u001b[39;00m \u001b[39mimport\u001b[39;00m svg2png\n\u001b[0;32m      2\u001b[0m \u001b[39mimport\u001b[39;00m \u001b[39mnumpy\u001b[39;00m \u001b[39mas\u001b[39;00m \u001b[39mnp\u001b[39;00m\n\u001b[0;32m      3\u001b[0m \u001b[39mimport\u001b[39;00m \u001b[39mcv2\u001b[39;00m\n",
      "File \u001b[1;32mc:\\Python310\\lib\\site-packages\\cairosvg\\__init__.py:26\u001b[0m\n\u001b[0;32m     22\u001b[0m VERSION \u001b[39m=\u001b[39m __version__ \u001b[39m=\u001b[39m (ROOT \u001b[39m/\u001b[39m \u001b[39m'\u001b[39m\u001b[39mVERSION\u001b[39m\u001b[39m'\u001b[39m)\u001b[39m.\u001b[39mread_text()\u001b[39m.\u001b[39mstrip()\n\u001b[0;32m     25\u001b[0m \u001b[39m# VERSION is used in the \"url\" module imported by \"surface\"\u001b[39;00m\n\u001b[1;32m---> 26\u001b[0m \u001b[39mfrom\u001b[39;00m \u001b[39m.\u001b[39;00m \u001b[39mimport\u001b[39;00m surface  \u001b[39m# noqa isort:skip\u001b[39;00m\n\u001b[0;32m     29\u001b[0m SURFACES \u001b[39m=\u001b[39m {\n\u001b[0;32m     30\u001b[0m     \u001b[39m'\u001b[39m\u001b[39mPDF\u001b[39m\u001b[39m'\u001b[39m: surface\u001b[39m.\u001b[39mPDFSurface,\n\u001b[0;32m     31\u001b[0m     \u001b[39m'\u001b[39m\u001b[39mPNG\u001b[39m\u001b[39m'\u001b[39m: surface\u001b[39m.\u001b[39mPNGSurface,\n\u001b[1;32m   (...)\u001b[0m\n\u001b[0;32m     34\u001b[0m     \u001b[39m'\u001b[39m\u001b[39mSVG\u001b[39m\u001b[39m'\u001b[39m: surface\u001b[39m.\u001b[39mSVGSurface,\n\u001b[0;32m     35\u001b[0m }\n\u001b[0;32m     38\u001b[0m \u001b[39mdef\u001b[39;00m \u001b[39msvg2svg\u001b[39m(bytestring\u001b[39m=\u001b[39m\u001b[39mNone\u001b[39;00m, \u001b[39m*\u001b[39m, file_obj\u001b[39m=\u001b[39m\u001b[39mNone\u001b[39;00m, url\u001b[39m=\u001b[39m\u001b[39mNone\u001b[39;00m, dpi\u001b[39m=\u001b[39m\u001b[39m96\u001b[39m,\n\u001b[0;32m     39\u001b[0m             parent_width\u001b[39m=\u001b[39m\u001b[39mNone\u001b[39;00m, parent_height\u001b[39m=\u001b[39m\u001b[39mNone\u001b[39;00m, scale\u001b[39m=\u001b[39m\u001b[39m1\u001b[39m, unsafe\u001b[39m=\u001b[39m\u001b[39mFalse\u001b[39;00m,\n\u001b[0;32m     40\u001b[0m             background_color\u001b[39m=\u001b[39m\u001b[39mNone\u001b[39;00m, negate_colors\u001b[39m=\u001b[39m\u001b[39mFalse\u001b[39;00m, invert_images\u001b[39m=\u001b[39m\u001b[39mFalse\u001b[39;00m,\n\u001b[0;32m     41\u001b[0m             write_to\u001b[39m=\u001b[39m\u001b[39mNone\u001b[39;00m, output_width\u001b[39m=\u001b[39m\u001b[39mNone\u001b[39;00m, output_height\u001b[39m=\u001b[39m\u001b[39mNone\u001b[39;00m):\n",
      "File \u001b[1;32mc:\\Python310\\lib\\site-packages\\cairosvg\\surface.py:9\u001b[0m\n\u001b[0;32m      6\u001b[0m \u001b[39mimport\u001b[39;00m \u001b[39mcopy\u001b[39;00m\n\u001b[0;32m      7\u001b[0m \u001b[39mimport\u001b[39;00m \u001b[39mio\u001b[39;00m\n\u001b[1;32m----> 9\u001b[0m \u001b[39mimport\u001b[39;00m \u001b[39mcairocffi\u001b[39;00m \u001b[39mas\u001b[39;00m \u001b[39mcairo\u001b[39;00m\n\u001b[0;32m     11\u001b[0m \u001b[39mfrom\u001b[39;00m \u001b[39m.\u001b[39;00m\u001b[39mcolors\u001b[39;00m \u001b[39mimport\u001b[39;00m color, negate_color\n\u001b[0;32m     12\u001b[0m \u001b[39mfrom\u001b[39;00m \u001b[39m.\u001b[39;00m\u001b[39mdefs\u001b[39;00m \u001b[39mimport\u001b[39;00m (\n\u001b[0;32m     13\u001b[0m     apply_filter_after_painting, apply_filter_before_painting, clip_path,\n\u001b[0;32m     14\u001b[0m     filter_, gradient_or_pattern, linear_gradient, marker, mask, paint_mask,\n\u001b[0;32m     15\u001b[0m     parse_all_defs, pattern, prepare_filter, radial_gradient, use)\n",
      "File \u001b[1;32mc:\\Python310\\lib\\site-packages\\cairocffi\\__init__.py:48\u001b[0m\n\u001b[0;32m     43\u001b[0m     error_message \u001b[39m=\u001b[39m \u001b[39m'\u001b[39m\u001b[39m\\n\u001b[39;00m\u001b[39m'\u001b[39m\u001b[39m.\u001b[39mjoin(  \u001b[39m# pragma: no cover\u001b[39;00m\n\u001b[0;32m     44\u001b[0m         \u001b[39mstr\u001b[39m(exception) \u001b[39mfor\u001b[39;00m exception \u001b[39min\u001b[39;00m exceptions)\n\u001b[0;32m     45\u001b[0m     \u001b[39mraise\u001b[39;00m \u001b[39mOSError\u001b[39;00m(error_message)  \u001b[39m# pragma: no cover\u001b[39;00m\n\u001b[1;32m---> 48\u001b[0m cairo \u001b[39m=\u001b[39m dlopen(\n\u001b[0;32m     49\u001b[0m     ffi, (\u001b[39m'\u001b[39;49m\u001b[39mcairo-2\u001b[39;49m\u001b[39m'\u001b[39;49m, \u001b[39m'\u001b[39;49m\u001b[39mcairo\u001b[39;49m\u001b[39m'\u001b[39;49m, \u001b[39m'\u001b[39;49m\u001b[39mlibcairo-2\u001b[39;49m\u001b[39m'\u001b[39;49m),\n\u001b[0;32m     50\u001b[0m     (\u001b[39m'\u001b[39;49m\u001b[39mlibcairo.so.2\u001b[39;49m\u001b[39m'\u001b[39;49m, \u001b[39m'\u001b[39;49m\u001b[39mlibcairo.2.dylib\u001b[39;49m\u001b[39m'\u001b[39;49m, \u001b[39m'\u001b[39;49m\u001b[39mlibcairo-2.dll\u001b[39;49m\u001b[39m'\u001b[39;49m))\n\u001b[0;32m     53\u001b[0m \u001b[39mclass\u001b[39;00m \u001b[39m_keepref\u001b[39;00m(\u001b[39mobject\u001b[39m):\n\u001b[0;32m     54\u001b[0m     \u001b[39m\"\"\"Function wrapper that keeps a reference to another object.\"\"\"\u001b[39;00m\n",
      "File \u001b[1;32mc:\\Python310\\lib\\site-packages\\cairocffi\\__init__.py:45\u001b[0m, in \u001b[0;36mdlopen\u001b[1;34m(ffi, library_names, filenames)\u001b[0m\n\u001b[0;32m     41\u001b[0m         exceptions\u001b[39m.\u001b[39mappend(exception)\n\u001b[0;32m     43\u001b[0m error_message \u001b[39m=\u001b[39m \u001b[39m'\u001b[39m\u001b[39m\\n\u001b[39;00m\u001b[39m'\u001b[39m\u001b[39m.\u001b[39mjoin(  \u001b[39m# pragma: no cover\u001b[39;00m\n\u001b[0;32m     44\u001b[0m     \u001b[39mstr\u001b[39m(exception) \u001b[39mfor\u001b[39;00m exception \u001b[39min\u001b[39;00m exceptions)\n\u001b[1;32m---> 45\u001b[0m \u001b[39mraise\u001b[39;00m \u001b[39mOSError\u001b[39;00m(error_message)\n",
      "\u001b[1;31mOSError\u001b[0m: no library called \"cairo-2\" was found\nno library called \"cairo\" was found\nno library called \"libcairo-2\" was found\ncannot load library 'libcairo.so.2': error 0x7e\ncannot load library 'libcairo.2.dylib': error 0x7e\ncannot load library 'libcairo-2.dll': error 0x7e"
     ]
    }
   ],
   "source": [
    "from cairosvg import svg2png\n",
    "import numpy as np\n",
    "import cv2\n",
    "import os\n",
    "import io\n",
    "\n",
    "#2D animation\n",
    "\n",
    "two_d_path = './2Dscreenshots'\n",
    "\n",
    "# Define the codec and create the VideoWriter object\n",
    "fourcc = cv2.VideoWriter_fourcc(*'XVID')\n",
    "out = cv2.VideoWriter('1000gen_2danimation.avi', fourcc, 30.0, (1080, 720))\n",
    "\n",
    "# Read the images from a folder\n",
    "files = list(os.listdir(os.path.abspath(two_d_path)))\n",
    "files.sort(key=lambda x: int(x.split('_')[-1].split('.')[0]))\n",
    "\n",
    "for file in os.listdir(os.path.abspath(two_d_path)):\n",
    "    print(file)\n",
    "    with open(os.path.join(os.path.abspath(two_d_path), file), 'r') as f:\n",
    "        svg2png(bytestring=f, write_to='ouo.png')\n",
    "    break\n",
    "    \n",
    "    # Write the image to the video file\n",
    "    out.write(img)\n",
    "\n",
    "# Release the VideoWriter object\n",
    "out.release()"
   ]
  }
 ],
 "metadata": {
  "kernelspec": {
   "display_name": "Python 3.10.7 64-bit",
   "language": "python",
   "name": "python3"
  },
  "language_info": {
   "codemirror_mode": {
    "name": "ipython",
    "version": 3
   },
   "file_extension": ".py",
   "mimetype": "text/x-python",
   "name": "python",
   "nbconvert_exporter": "python",
   "pygments_lexer": "ipython3",
   "version": "3.10.7"
  },
  "orig_nbformat": 4,
  "vscode": {
   "interpreter": {
    "hash": "369f2c481f4da34e4445cda3fffd2e751bd1c4d706f27375911949ba6bb62e1c"
   }
  }
 },
 "nbformat": 4,
 "nbformat_minor": 2
}
